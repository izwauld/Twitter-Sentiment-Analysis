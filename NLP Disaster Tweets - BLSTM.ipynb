{
 "cells": [
  {
   "cell_type": "code",
   "execution_count": 12,
   "metadata": {
    "_cell_guid": "5cba9112-50d2-4d87-9b1a-226467f43322",
    "_uuid": "8fb26918-a44d-464f-ac33-7f98f06c5b4a",
    "execution": {
     "iopub.execute_input": "2021-09-21T01:17:06.510832Z",
     "iopub.status.busy": "2021-09-21T01:17:06.509708Z",
     "iopub.status.idle": "2021-09-21T01:17:08.274683Z",
     "shell.execute_reply": "2021-09-21T01:17:08.273837Z"
    },
    "jupyter": {
     "outputs_hidden": false
    },
    "papermill": {
     "duration": 1.814528,
     "end_time": "2021-09-21T01:17:08.274873",
     "exception": false,
     "start_time": "2021-09-21T01:17:06.460345",
     "status": "completed"
    },
    "tags": []
   },
   "outputs": [],
   "source": [
    "import re, os\n",
    "import nltk\n",
    "import numpy as np \n",
    "import pandas as pd \n",
    "import matplotlib.pyplot as plt\n",
    "from sklearn.metrics import f1_score\n",
    "from collections import Counter\n",
    "from nltk.tokenize import word_tokenize\n",
    "from nltk.corpus import stopwords, wordnet"
   ]
  },
  {
   "cell_type": "code",
   "execution_count": 13,
   "metadata": {},
   "outputs": [
    {
     "name": "stdout",
     "output_type": "stream",
     "text": [
      "2.3.0\n"
     ]
    }
   ],
   "source": [
    "import tensorflow as tf\n",
    "print(tf.__version__)"
   ]
  },
  {
   "cell_type": "code",
   "execution_count": 14,
   "metadata": {
    "_cell_guid": "b0894518-2a41-4952-8b12-1a981dc1ecc3",
    "_uuid": "2b8bc89f-866c-4aa0-ba83-919cb8735ca8",
    "execution": {
     "iopub.execute_input": "2021-09-21T01:17:08.367025Z",
     "iopub.status.busy": "2021-09-21T01:17:08.366357Z",
     "iopub.status.idle": "2021-09-21T01:17:08.369199Z",
     "shell.execute_reply": "2021-09-21T01:17:08.369760Z"
    },
    "jupyter": {
     "outputs_hidden": false
    },
    "papermill": {
     "duration": 0.050854,
     "end_time": "2021-09-21T01:17:08.369936",
     "exception": false,
     "start_time": "2021-09-21T01:17:08.319082",
     "status": "completed"
    },
    "tags": []
   },
   "outputs": [
    {
     "data": {
      "text/plain": [
       "['.ipynb_checkpoints',\n",
       " 'NLP Disaster Tweets - BLSTM.ipynb',\n",
       " 'NLP Disaster Tweets - Naive Bayes.ipynb',\n",
       " 'test.csv',\n",
       " 'train.csv']"
      ]
     },
     "execution_count": 14,
     "metadata": {},
     "output_type": "execute_result"
    }
   ],
   "source": [
    "os.listdir(\".\")"
   ]
  },
  {
   "cell_type": "markdown",
   "metadata": {},
   "source": [
    "### Note: The following steps are the exact same as those in the 'NLP Disaster Tweets - Naive Bayes,ipynb' notebook. For a more full explanation of steps, see the annotations there. \n",
    "\n",
    "### The details of the bidirectional LSTM model start at '1. Bidirectional LSTM with Attention'"
   ]
  },
  {
   "cell_type": "code",
   "execution_count": 15,
   "metadata": {
    "_cell_guid": "c2b85866-c000-4322-881c-f83948f72819",
    "_uuid": "201c1ab1-08e9-4928-8b48-ad19c52d7ade",
    "execution": {
     "iopub.execute_input": "2021-09-21T01:17:08.461042Z",
     "iopub.status.busy": "2021-09-21T01:17:08.460394Z",
     "iopub.status.idle": "2021-09-21T01:17:08.569652Z",
     "shell.execute_reply": "2021-09-21T01:17:08.569107Z"
    },
    "jupyter": {
     "outputs_hidden": false
    },
    "papermill": {
     "duration": 0.156331,
     "end_time": "2021-09-21T01:17:08.569795",
     "exception": false,
     "start_time": "2021-09-21T01:17:08.413464",
     "status": "completed"
    },
    "tags": []
   },
   "outputs": [
    {
     "data": {
      "text/html": [
       "<div>\n",
       "<style scoped>\n",
       "    .dataframe tbody tr th:only-of-type {\n",
       "        vertical-align: middle;\n",
       "    }\n",
       "\n",
       "    .dataframe tbody tr th {\n",
       "        vertical-align: top;\n",
       "    }\n",
       "\n",
       "    .dataframe thead th {\n",
       "        text-align: right;\n",
       "    }\n",
       "</style>\n",
       "<table border=\"1\" class=\"dataframe\">\n",
       "  <thead>\n",
       "    <tr style=\"text-align: right;\">\n",
       "      <th></th>\n",
       "      <th>id</th>\n",
       "      <th>keyword</th>\n",
       "      <th>location</th>\n",
       "      <th>text</th>\n",
       "      <th>target</th>\n",
       "    </tr>\n",
       "  </thead>\n",
       "  <tbody>\n",
       "    <tr>\n",
       "      <th>0</th>\n",
       "      <td>1</td>\n",
       "      <td>NaN</td>\n",
       "      <td>NaN</td>\n",
       "      <td>Our Deeds are the Reason of this #earthquake M...</td>\n",
       "      <td>1</td>\n",
       "    </tr>\n",
       "    <tr>\n",
       "      <th>1</th>\n",
       "      <td>4</td>\n",
       "      <td>NaN</td>\n",
       "      <td>NaN</td>\n",
       "      <td>Forest fire near La Ronge Sask. Canada</td>\n",
       "      <td>1</td>\n",
       "    </tr>\n",
       "    <tr>\n",
       "      <th>2</th>\n",
       "      <td>5</td>\n",
       "      <td>NaN</td>\n",
       "      <td>NaN</td>\n",
       "      <td>All residents asked to 'shelter in place' are ...</td>\n",
       "      <td>1</td>\n",
       "    </tr>\n",
       "    <tr>\n",
       "      <th>3</th>\n",
       "      <td>6</td>\n",
       "      <td>NaN</td>\n",
       "      <td>NaN</td>\n",
       "      <td>13,000 people receive #wildfires evacuation or...</td>\n",
       "      <td>1</td>\n",
       "    </tr>\n",
       "    <tr>\n",
       "      <th>4</th>\n",
       "      <td>7</td>\n",
       "      <td>NaN</td>\n",
       "      <td>NaN</td>\n",
       "      <td>Just got sent this photo from Ruby #Alaska as ...</td>\n",
       "      <td>1</td>\n",
       "    </tr>\n",
       "  </tbody>\n",
       "</table>\n",
       "</div>"
      ],
      "text/plain": [
       "   id keyword location                                               text  \\\n",
       "0   1     NaN      NaN  Our Deeds are the Reason of this #earthquake M...   \n",
       "1   4     NaN      NaN             Forest fire near La Ronge Sask. Canada   \n",
       "2   5     NaN      NaN  All residents asked to 'shelter in place' are ...   \n",
       "3   6     NaN      NaN  13,000 people receive #wildfires evacuation or...   \n",
       "4   7     NaN      NaN  Just got sent this photo from Ruby #Alaska as ...   \n",
       "\n",
       "   target  \n",
       "0       1  \n",
       "1       1  \n",
       "2       1  \n",
       "3       1  \n",
       "4       1  "
      ]
     },
     "execution_count": 15,
     "metadata": {},
     "output_type": "execute_result"
    }
   ],
   "source": [
    "train_data = pd.read_csv(\"train.csv\")\n",
    "test_data = pd.read_csv(\"test.csv\")\n",
    "\n",
    "train_data.head()"
   ]
  },
  {
   "cell_type": "code",
   "execution_count": 16,
   "metadata": {
    "_cell_guid": "818dfbeb-051e-44fa-9a19-a14438012a37",
    "_uuid": "588ce3e2-99ac-4fd0-abab-efcfbbff4e9e",
    "execution": {
     "iopub.execute_input": "2021-09-21T01:17:08.664382Z",
     "iopub.status.busy": "2021-09-21T01:17:08.663749Z",
     "iopub.status.idle": "2021-09-21T01:17:08.666574Z",
     "shell.execute_reply": "2021-09-21T01:17:08.667318Z"
    },
    "jupyter": {
     "outputs_hidden": false
    },
    "papermill": {
     "duration": 0.05226,
     "end_time": "2021-09-21T01:17:08.667537",
     "exception": false,
     "start_time": "2021-09-21T01:17:08.615277",
     "status": "completed"
    },
    "tags": []
   },
   "outputs": [
    {
     "name": "stdout",
     "output_type": "stream",
     "text": [
      "There are 7613 tweets\n"
     ]
    }
   ],
   "source": [
    "print(\"There are {} tweets\".format(len(train_data)))"
   ]
  },
  {
   "cell_type": "code",
   "execution_count": 17,
   "metadata": {
    "_cell_guid": "d82a6988-6450-475c-b093-7ca673dd0527",
    "_uuid": "adde0b1c-9adc-4f16-a6e1-606d539979ca",
    "execution": {
     "iopub.execute_input": "2021-09-21T01:17:08.760434Z",
     "iopub.status.busy": "2021-09-21T01:17:08.759823Z",
     "iopub.status.idle": "2021-09-21T01:17:08.790834Z",
     "shell.execute_reply": "2021-09-21T01:17:08.790239Z"
    },
    "jupyter": {
     "outputs_hidden": false
    },
    "papermill": {
     "duration": 0.078153,
     "end_time": "2021-09-21T01:17:08.790990",
     "exception": false,
     "start_time": "2021-09-21T01:17:08.712837",
     "status": "completed"
    },
    "tags": []
   },
   "outputs": [
    {
     "name": "stdout",
     "output_type": "stream",
     "text": [
      "Null values for each column (% of total amount of data):\n",
      "\n"
     ]
    },
    {
     "data": {
      "text/plain": [
       "id           0.000000\n",
       "keyword      0.801261\n",
       "location    33.272035\n",
       "text         0.000000\n",
       "target       0.000000\n",
       "dtype: float64"
      ]
     },
     "execution_count": 17,
     "metadata": {},
     "output_type": "execute_result"
    }
   ],
   "source": [
    "print(\"Null values for each column (% of total amount of data):\\n\")\n",
    "(train_data.isnull().sum() / len(train_data)) * 100"
   ]
  },
  {
   "cell_type": "code",
   "execution_count": 18,
   "metadata": {
    "_cell_guid": "d62af9af-b0ba-48d1-b335-19b345fb9e80",
    "_uuid": "bfa6b5c2-4ebd-4240-a25a-4c846be250b0",
    "execution": {
     "iopub.execute_input": "2021-09-21T01:17:08.982801Z",
     "iopub.status.busy": "2021-09-21T01:17:08.982071Z",
     "iopub.status.idle": "2021-09-21T01:17:08.989674Z",
     "shell.execute_reply": "2021-09-21T01:17:08.988859Z"
    },
    "jupyter": {
     "outputs_hidden": false
    },
    "papermill": {
     "duration": 0.063512,
     "end_time": "2021-09-21T01:17:08.989903",
     "exception": false,
     "start_time": "2021-09-21T01:17:08.926391",
     "status": "completed"
    },
    "tags": []
   },
   "outputs": [],
   "source": [
    "#train_data = train_data.drop(\"location\", 1) # remove loaction column\n",
    "train_data = train_data.dropna(axis=0) # remove missing keyword entries"
   ]
  },
  {
   "cell_type": "code",
   "execution_count": 19,
   "metadata": {
    "_cell_guid": "742ed355-2f46-473b-a597-3ebe1c2044c5",
    "_uuid": "071cd8f7-ea45-4b69-b92b-20b0c0c1b8b9",
    "execution": {
     "iopub.execute_input": "2021-09-21T01:17:09.187185Z",
     "iopub.status.busy": "2021-09-21T01:17:09.186361Z",
     "iopub.status.idle": "2021-09-21T01:17:09.189740Z",
     "shell.execute_reply": "2021-09-21T01:17:09.190253Z"
    },
    "jupyter": {
     "outputs_hidden": false
    },
    "papermill": {
     "duration": 0.063061,
     "end_time": "2021-09-21T01:17:09.190457",
     "exception": false,
     "start_time": "2021-09-21T01:17:09.127396",
     "status": "completed"
    },
    "tags": []
   },
   "outputs": [
    {
     "data": {
      "text/plain": [
       "0    2884\n",
       "1    2196\n",
       "Name: target, dtype: int64"
      ]
     },
     "execution_count": 19,
     "metadata": {},
     "output_type": "execute_result"
    }
   ],
   "source": [
    "train_data.target.value_counts() # Sample from majority class accordingly"
   ]
  },
  {
   "cell_type": "code",
   "execution_count": 20,
   "metadata": {
    "_cell_guid": "72a6936f-e160-44ad-ae71-a8f56a49f1ad",
    "_uuid": "0405c161-5921-49b0-8a7f-b149cb08a01f",
    "execution": {
     "iopub.execute_input": "2021-09-21T01:17:09.378757Z",
     "iopub.status.busy": "2021-09-21T01:17:09.377980Z",
     "iopub.status.idle": "2021-09-21T01:17:09.397027Z",
     "shell.execute_reply": "2021-09-21T01:17:09.396144Z"
    },
    "jupyter": {
     "outputs_hidden": false
    },
    "papermill": {
     "duration": 0.068036,
     "end_time": "2021-09-21T01:17:09.397237",
     "exception": false,
     "start_time": "2021-09-21T01:17:09.329201",
     "status": "completed"
    },
    "tags": []
   },
   "outputs": [],
   "source": [
    "num_neg = train_data.target.value_counts()[0]\n",
    "num_pos = train_data.target.value_counts()[1]\n",
    "\n",
    "frac = num_pos / num_neg\n",
    "\n",
    "neg_data = train_data[train_data.target == 0].sample(frac=frac)\n",
    "pos_data = train_data[train_data.target == 1]\n",
    "\n",
    "new_data = pd.concat([pos_data, neg_data])\n",
    "\n",
    "#Shuffle the dataframe\n",
    "new_data = new_data.sample(frac=1)"
   ]
  },
  {
   "cell_type": "code",
   "execution_count": 21,
   "metadata": {
    "_cell_guid": "6d60be7b-2680-4e5e-8bd0-467d67c49bfd",
    "_uuid": "d3ef8328-e54d-4971-a601-9bc258352a63",
    "execution": {
     "iopub.execute_input": "2021-09-21T01:17:09.617642Z",
     "iopub.status.busy": "2021-09-21T01:17:09.616862Z",
     "iopub.status.idle": "2021-09-21T01:17:09.620276Z",
     "shell.execute_reply": "2021-09-21T01:17:09.620885Z"
    },
    "jupyter": {
     "outputs_hidden": false
    },
    "papermill": {
     "duration": 0.058789,
     "end_time": "2021-09-21T01:17:09.621086",
     "exception": false,
     "start_time": "2021-09-21T01:17:09.562297",
     "status": "completed"
    },
    "tags": []
   },
   "outputs": [
    {
     "data": {
      "text/plain": [
       "0    2196\n",
       "1    2196\n",
       "Name: target, dtype: int64"
      ]
     },
     "execution_count": 21,
     "metadata": {},
     "output_type": "execute_result"
    }
   ],
   "source": [
    "new_data.target.value_counts() # Balance issues fixed!"
   ]
  },
  {
   "cell_type": "code",
   "execution_count": 22,
   "metadata": {},
   "outputs": [
    {
     "name": "stdout",
     "output_type": "stream",
     "text": [
      "Total number of tweets in re-sampled dataframe: 4392\n"
     ]
    }
   ],
   "source": [
    "print(\"Total number of tweets in re-sampled dataframe: {}\".format(len(new_data)))"
   ]
  },
  {
   "cell_type": "code",
   "execution_count": 23,
   "metadata": {
    "_cell_guid": "097b73a6-0c81-40d9-95fe-378025385de6",
    "_uuid": "c9c15ead-e15b-4b01-84f0-0ab8555ad74b",
    "execution": {
     "iopub.execute_input": "2021-09-21T01:17:09.719107Z",
     "iopub.status.busy": "2021-09-21T01:17:09.718157Z",
     "iopub.status.idle": "2021-09-21T01:17:09.727278Z",
     "shell.execute_reply": "2021-09-21T01:17:09.727833Z"
    },
    "jupyter": {
     "outputs_hidden": false
    },
    "papermill": {
     "duration": 0.059808,
     "end_time": "2021-09-21T01:17:09.728026",
     "exception": false,
     "start_time": "2021-09-21T01:17:09.668218",
     "status": "completed"
    },
    "tags": []
   },
   "outputs": [
    {
     "name": "stdout",
     "output_type": "stream",
     "text": [
      "Number of tweets w/ #:  1097\n",
      "Number of tweets w/ @:  1235\n"
     ]
    }
   ],
   "source": [
    "print(\"Number of tweets w/ #: \", len([x for x in new_data.text.values if '#' in x])) # tweets with #\n",
    "print(\"Number of tweets w/ @: \", len([x for x in new_data.text.values if '@' in x])) # tweets with @"
   ]
  },
  {
   "cell_type": "code",
   "execution_count": 24,
   "metadata": {
    "_cell_guid": "2532bbcf-b90d-4353-b4bb-3b33238cbac9",
    "_uuid": "cc7ba68f-93a9-43ba-84f4-10164aa7fcb1",
    "execution": {
     "iopub.execute_input": "2021-09-21T01:17:09.928847Z",
     "iopub.status.busy": "2021-09-21T01:17:09.925830Z",
     "iopub.status.idle": "2021-09-21T01:17:09.933703Z",
     "shell.execute_reply": "2021-09-21T01:17:09.933122Z"
    },
    "jupyter": {
     "outputs_hidden": false
    },
    "papermill": {
     "duration": 0.063744,
     "end_time": "2021-09-21T01:17:09.933880",
     "exception": false,
     "start_time": "2021-09-21T01:17:09.870136",
     "status": "completed"
    },
    "tags": []
   },
   "outputs": [
    {
     "data": {
      "text/plain": [
       "collision                33\n",
       "outbreak                 31\n",
       "damage                   30\n",
       "derailed                 29\n",
       "buildings%20on%20fire    29\n",
       "fatalities               28\n",
       "wreckage                 28\n",
       "earthquake               28\n",
       "rainstorm                28\n",
       "displaced                27\n",
       "accident                 27\n",
       "whirlwind                27\n",
       "oil%20spill              27\n",
       "flooding                 27\n",
       "danger                   27\n",
       "sandstorm                27\n",
       "airplane%20accident      26\n",
       "attacked                 26\n",
       "flames                   26\n",
       "evacuation               26\n",
       "ablaze                   26\n",
       "armageddon               26\n",
       "evacuated                26\n",
       "drought                  26\n",
       "wounded                  26\n",
       "Name: keyword, dtype: int64"
      ]
     },
     "execution_count": 24,
     "metadata": {},
     "output_type": "execute_result"
    }
   ],
   "source": [
    "# Keywords\n",
    "new_data[['keyword', 'target']].keyword.value_counts()[:25]"
   ]
  },
  {
   "cell_type": "code",
   "execution_count": 25,
   "metadata": {
    "_cell_guid": "b062027c-319b-497c-a533-c3caf2ca77ba",
    "_uuid": "280d0a0a-7707-4456-8a35-5d94930497df",
    "execution": {
     "iopub.execute_input": "2021-09-21T01:17:10.041094Z",
     "iopub.status.busy": "2021-09-21T01:17:10.040394Z",
     "iopub.status.idle": "2021-09-21T01:17:10.524001Z",
     "shell.execute_reply": "2021-09-21T01:17:10.523464Z"
    },
    "jupyter": {
     "outputs_hidden": false
    },
    "papermill": {
     "duration": 0.542097,
     "end_time": "2021-09-21T01:17:10.524147",
     "exception": false,
     "start_time": "2021-09-21T01:17:09.982050",
     "status": "completed"
    },
    "tags": []
   },
   "outputs": [],
   "source": [
    "kwords = {}\n",
    "disaster_label = 1\n",
    "\n",
    "for word in new_data.keyword.unique():\n",
    "    kword = new_data[new_data.keyword == word]\n",
    "    total = kword.target.value_counts().sum()\n",
    "    \n",
    "    try:\n",
    "        frac = kword.target.value_counts()[disaster_label] / total\n",
    "    except:\n",
    "        frac = 0.0 # not in any disaster-related tweets  \n",
    "        \n",
    "    kwords[word] = frac\n",
    "\n",
    "sorted_kwords = {k: v for k, v in sorted(kwords.items(), key=lambda item: item[1], reverse=True)}"
   ]
  },
  {
   "cell_type": "code",
   "execution_count": 26,
   "metadata": {
    "_cell_guid": "85115e4e-bb2c-467f-9b3c-9827a35e5090",
    "_uuid": "8501d23b-e98f-4692-8ea8-41bd58dd47e4",
    "execution": {
     "iopub.execute_input": "2021-09-21T01:17:10.624773Z",
     "iopub.status.busy": "2021-09-21T01:17:10.624082Z",
     "iopub.status.idle": "2021-09-21T01:17:10.627411Z",
     "shell.execute_reply": "2021-09-21T01:17:10.628017Z"
    },
    "jupyter": {
     "outputs_hidden": false
    },
    "papermill": {
     "duration": 0.056287,
     "end_time": "2021-09-21T01:17:10.628227",
     "exception": false,
     "start_time": "2021-09-21T01:17:10.571940",
     "status": "completed"
    },
    "tags": []
   },
   "outputs": [],
   "source": [
    "# Filter dict to get all those with majority association to disasters\n",
    "new_dict = dict(filter(lambda x: x[1] > 0.75, sorted_kwords.items()))"
   ]
  },
  {
   "cell_type": "code",
   "execution_count": 27,
   "metadata": {
    "_cell_guid": "3ae4461d-98b3-4437-8a28-c96426bc5e1e",
    "_uuid": "f75769cf-8024-47bf-8502-39bd8efc1a41",
    "execution": {
     "iopub.execute_input": "2021-09-21T01:17:10.736129Z",
     "iopub.status.busy": "2021-09-21T01:17:10.735334Z",
     "iopub.status.idle": "2021-09-21T01:17:11.591718Z",
     "shell.execute_reply": "2021-09-21T01:17:11.592235Z"
    },
    "jupyter": {
     "outputs_hidden": false
    },
    "papermill": {
     "duration": 0.914817,
     "end_time": "2021-09-21T01:17:11.592441",
     "exception": false,
     "start_time": "2021-09-21T01:17:10.677624",
     "status": "completed"
    },
    "tags": []
   },
   "outputs": [
    {
     "data": {
      "image/png": "[encoded data removed]",
      "text/plain": [
       "<Figure size 2160x720 with 1 Axes>"
      ]
     },
     "metadata": {
      "needs_background": "light"
     },
     "output_type": "display_data"
    }
   ],
   "source": [
    "items = new_dict\n",
    "\n",
    "plt.figure(figsize=(30,10))\n",
    "\n",
    "#x = list(range(0, len(sorted_kwords.keys())))\n",
    "x = list(items.keys())\n",
    "y = list(items.values())\n",
    "\n",
    "plt.xticks(rotation = 90, fontsize=25)\n",
    "plt.plot(x, y)\n",
    "plt.show()"
   ]
  },
  {
   "cell_type": "code",
   "execution_count": 28,
   "metadata": {
    "_cell_guid": "35af6e20-0fce-426c-8eca-d540a452a5a2",
    "_uuid": "fdaa65d9-d9eb-48a6-9207-420e425c4c0b",
    "execution": {
     "iopub.execute_input": "2021-09-21T01:17:11.816480Z",
     "iopub.status.busy": "2021-09-21T01:17:11.815769Z",
     "iopub.status.idle": "2021-09-21T01:17:11.819294Z",
     "shell.execute_reply": "2021-09-21T01:17:11.818764Z"
    },
    "jupyter": {
     "outputs_hidden": false
    },
    "papermill": {
     "duration": 0.064673,
     "end_time": "2021-09-21T01:17:11.819460",
     "exception": false,
     "start_time": "2021-09-21T01:17:11.754787",
     "status": "completed"
    },
    "tags": []
   },
   "outputs": [],
   "source": [
    "def clean_text(text):\n",
    "    \n",
    "    new_text = text.lower() # lowercase the text\n",
    "    new_text = re.sub(r\"\\w+\\:\\/\\/([a-z]+)\\.co\\/\\w+(\\n)?\", \"\", new_text) #remove urls\n",
    "    new_text = re.sub(r\"@[a-zA-Z0-9]+(?:;)*\", \"\", new_text) # remove @s\n",
    "    new_text = re.sub(r\"#\", \"\", new_text) # remove #s\n",
    "    new_text = re.sub(r\"[^a-z0-9A-Z]\", \" \", new_text) # remove non alphanumerics\n",
    "    new_text = re.sub(r\"[0-9]+[^\\w+]\", \"\", new_text) # remove words made wholy of digits\n",
    "    new_text = re.sub(r\"\\b\\w{1,2}\\b\", \"\", new_text) # remove words w/ 1 char\n",
    "    new_text = re.sub(\" +\", \" \", new_text) # remove multiple consecutive spaces\n",
    "    \n",
    "    new_text = new_text.strip() # remove leading/trailing whitespaces\n",
    "    \n",
    "    return new_text"
   ]
  },
  {
   "cell_type": "code",
   "execution_count": 29,
   "metadata": {
    "_cell_guid": "37ae6c53-54b1-48b7-af3f-85ef30172483",
    "_uuid": "6dcf2922-6d56-42ec-b9ca-8090891e057e",
    "execution": {
     "iopub.execute_input": "2021-09-21T01:17:11.931558Z",
     "iopub.status.busy": "2021-09-21T01:17:11.930498Z",
     "iopub.status.idle": "2021-09-21T01:17:11.936815Z",
     "shell.execute_reply": "2021-09-21T01:17:11.937321Z"
    },
    "jupyter": {
     "outputs_hidden": false
    },
    "papermill": {
     "duration": 0.064547,
     "end_time": "2021-09-21T01:17:11.937513",
     "exception": false,
     "start_time": "2021-09-21T01:17:11.872966",
     "status": "completed"
    },
    "tags": []
   },
   "outputs": [
    {
     "data": {
      "text/plain": [
       "array(['Has An Ancient Nuclear Reactor Been Discovered In Africa? \\x89ÛÒ Your... http://t.co/qadUfO8zXg',\n",
       "       \"Wreckage 'Conclusively Confirmed' as From MH370: Malaysia PM\",\n",
       "       'SCREAMING @MariahCarey @ArianaGrande http://t.co/xxZD1nmb1i', ...,\n",
       "       \"So the IFAK is an 'individual first aid kit' to treat a single trauma victim I think I should create the EFAK or evacuation first aid kit\",\n",
       "       'Sex Workers Say Credit Card Bans On Online Ads Do More Harm Than Good http://t.co/B9Zx2xZ6aW',\n",
       "       'The year is 2065 and the national society of meme preservation has opened the first museum where memes and their origins are displaced'],\n",
       "      dtype=object)"
      ]
     },
     "execution_count": 29,
     "metadata": {},
     "output_type": "execute_result"
    }
   ],
   "source": [
    "new_data.text.values"
   ]
  },
  {
   "cell_type": "code",
   "execution_count": 30,
   "metadata": {
    "_cell_guid": "1d148c11-edb8-40d3-874a-0d15d5ded20c",
    "_uuid": "31345f52-6b6d-49e7-9156-a18d25724df4",
    "execution": {
     "iopub.execute_input": "2021-09-21T01:17:12.058185Z",
     "iopub.status.busy": "2021-09-21T01:17:12.057467Z",
     "iopub.status.idle": "2021-09-21T01:17:12.061195Z",
     "shell.execute_reply": "2021-09-21T01:17:12.061716Z"
    },
    "jupyter": {
     "outputs_hidden": false
    },
    "papermill": {
     "duration": 0.070873,
     "end_time": "2021-09-21T01:17:12.061921",
     "exception": false,
     "start_time": "2021-09-21T01:17:11.991048",
     "status": "completed"
    },
    "tags": []
   },
   "outputs": [
    {
     "name": "stdout",
     "output_type": "stream",
     "text": [
      "Original:  its only getting colder and colder and faster and faster and when i first realized it it was like a natural disaster\n",
      "Cleaned:  its only getting colder and colder and faster and faster and when first realized was like natural disaster\n"
     ]
    }
   ],
   "source": [
    "#Test cleaning on given tweet\n",
    "i = 6\n",
    "for tweet in new_data.text.values[i:]:\n",
    "    print(\"Original: \", tweet)\n",
    "    tweet = clean_text(tweet)\n",
    "    print(\"Cleaned: \", tweet)\n",
    "    break"
   ]
  },
  {
   "cell_type": "code",
   "execution_count": 31,
   "metadata": {
    "_cell_guid": "b1732945-b163-4862-9f0f-c62d5c3e5898",
    "_uuid": "fbb9d9ab-dfcb-467f-b7c8-6ff1ee13c5c1",
    "execution": {
     "iopub.execute_input": "2021-09-21T01:17:12.296000Z",
     "iopub.status.busy": "2021-09-21T01:17:12.290683Z",
     "iopub.status.idle": "2021-09-21T01:17:12.472255Z",
     "shell.execute_reply": "2021-09-21T01:17:12.471484Z"
    },
    "jupyter": {
     "outputs_hidden": false
    },
    "papermill": {
     "duration": 0.245571,
     "end_time": "2021-09-21T01:17:12.472416",
     "exception": false,
     "start_time": "2021-09-21T01:17:12.226845",
     "status": "completed"
    },
    "tags": []
   },
   "outputs": [],
   "source": [
    "tweets = {}\n",
    "for i, tweet in enumerate(new_data.text):\n",
    "    tweets[i] = clean_text(tweet)\n",
    "    \n",
    "labels = {}\n",
    "for i, label in enumerate(new_data.target):\n",
    "    labels[i] = label"
   ]
  },
  {
   "cell_type": "code",
   "execution_count": 32,
   "metadata": {
    "_cell_guid": "b20636e0-9017-41a8-a9fc-582b5db486a6",
    "_uuid": "bbd2ece7-ad06-4095-b330-c8b41a708178",
    "execution": {
     "iopub.execute_input": "2021-09-21T01:17:12.704317Z",
     "iopub.status.busy": "2021-09-21T01:17:12.698938Z",
     "iopub.status.idle": "2021-09-21T01:17:12.754737Z",
     "shell.execute_reply": "2021-09-21T01:17:12.754015Z"
    },
    "jupyter": {
     "outputs_hidden": false
    },
    "papermill": {
     "duration": 0.11873,
     "end_time": "2021-09-21T01:17:12.754897",
     "exception": false,
     "start_time": "2021-09-21T01:17:12.636167",
     "status": "completed"
    },
    "tags": []
   },
   "outputs": [],
   "source": [
    "import random\n",
    "\n",
    "for i in range(len(tweets)):\n",
    "    temp, label = tweets[i], labels[i]\n",
    "    j = random.randint(0, len(temp.split())-1)\n",
    "    word = temp.split()[j]\n",
    "    temp = temp.replace(word, \"\")\n",
    "    temp = re.sub(\" +\", \" \", temp) # remove multiple consecutive spaces\n",
    "    temp = temp.strip() # remove leading/trailing whitespaces\n",
    "\n",
    "    tweets[len(tweets)] = temp\n",
    "    labels[len(labels)] = label"
   ]
  },
  {
   "cell_type": "code",
   "execution_count": 33,
   "metadata": {
    "_cell_guid": "ee243da9-4656-4e14-86f6-e9dfcaf421ea",
    "_uuid": "083da9a5-9f3d-40b1-92bd-8fdcda39ccfd",
    "execution": {
     "iopub.execute_input": "2021-09-21T01:17:12.980661Z",
     "iopub.status.busy": "2021-09-21T01:17:12.979891Z",
     "iopub.status.idle": "2021-09-21T01:17:29.410466Z",
     "shell.execute_reply": "2021-09-21T01:17:29.411006Z"
    },
    "jupyter": {
     "outputs_hidden": false
    },
    "papermill": {
     "duration": 16.491944,
     "end_time": "2021-09-21T01:17:29.411237",
     "exception": false,
     "start_time": "2021-09-21T01:17:12.919293",
     "status": "completed"
    },
    "tags": []
   },
   "outputs": [],
   "source": [
    "#Takes a second...\n",
    "\n",
    "lm = nltk.stem.WordNetLemmatizer()\n",
    "all_tokens = [item for _, value in tweets.items() for item in word_tokenize(value)]\n",
    "#all_tokens_lm = [lm.lemmatize(t) for t in all_tokens]\n",
    "all_tokens_lm = [lm.lemmatize(t) for t in all_tokens if t not in stopwords.words('english')]"
   ]
  },
  {
   "cell_type": "code",
   "execution_count": 34,
   "metadata": {
    "_cell_guid": "2522c3a0-c302-4e16-a2f8-61a8203d34a1",
    "_uuid": "c634d225-ee81-491b-8260-a2357ea44e49",
    "execution": {
     "iopub.execute_input": "2021-09-21T01:17:29.634433Z",
     "iopub.status.busy": "2021-09-21T01:17:29.633426Z",
     "iopub.status.idle": "2021-09-21T01:17:29.646238Z",
     "shell.execute_reply": "2021-09-21T01:17:29.645687Z"
    },
    "jupyter": {
     "outputs_hidden": false
    },
    "papermill": {
     "duration": 0.070731,
     "end_time": "2021-09-21T01:17:29.646392",
     "exception": false,
     "start_time": "2021-09-21T01:17:29.575661",
     "status": "completed"
    },
    "tags": []
   },
   "outputs": [
    {
     "name": "stdout",
     "output_type": "stream",
     "text": [
      "There are 72071 tokens after processing\n",
      "There are 9343 unique tokens after processing\n"
     ]
    }
   ],
   "source": [
    "N = len(all_tokens_lm)\n",
    "V = len(set(all_tokens_lm))\n",
    "         \n",
    "print(f\"There are {N} tokens after processing\")\n",
    "print(f\"There are {V} unique tokens after processing\")"
   ]
  },
  {
   "cell_type": "code",
   "execution_count": 38,
   "metadata": {
    "_cell_guid": "1e1d0047-169a-4bb9-b70f-1a54c79e0b1a",
    "_uuid": "880e521b-3ef6-4982-86b2-ed8d7f2a221b",
    "execution": {
     "iopub.execute_input": "2021-09-21T01:17:30.004215Z",
     "iopub.status.busy": "2021-09-21T01:17:30.003563Z",
     "iopub.status.idle": "2021-09-21T01:17:30.016643Z",
     "shell.execute_reply": "2021-09-21T01:17:30.017143Z"
    },
    "jupyter": {
     "outputs_hidden": false
    },
    "papermill": {
     "duration": 0.071795,
     "end_time": "2021-09-21T01:17:30.017349",
     "exception": false,
     "start_time": "2021-09-21T01:17:29.945554",
     "status": "completed"
    },
    "tags": []
   },
   "outputs": [],
   "source": [
    "#60-20-20 train-dev-test split\n",
    "cutoff = int(0.8*len(tweets))\n",
    "train_cutoff = int(0.6*len(tweets))\n",
    "\n",
    "train_set = dict(list(tweets.items())[:train_cutoff])\n",
    "train_labels = dict(list(labels.items())[:train_cutoff])\n",
    "\n",
    "validation_set = dict(list(tweets.items())[train_cutoff:cutoff])\n",
    "validation_labels = dict(list(labels.items())[train_cutoff:cutoff])\n",
    "\n",
    "test_set = dict(list(tweets.items())[cutoff:])\n",
    "test_labels = dict(list(labels.items())[cutoff:])"
   ]
  },
  {
   "cell_type": "markdown",
   "metadata": {},
   "source": [
    "------------"
   ]
  },
  {
   "cell_type": "markdown",
   "metadata": {
    "_cell_guid": "ecde8a99-60eb-4f5f-a9bb-942a08f523bf",
    "_uuid": "aead1d8d-1c59-4c4d-a617-d5ec3a4cd940",
    "papermill": {
     "duration": 0.056156,
     "end_time": "2021-09-21T01:17:30.129338",
     "exception": false,
     "start_time": "2021-09-21T01:17:30.073182",
     "status": "completed"
    },
    "tags": []
   },
   "source": [
    "# Bidirectional LSTM w/ Attention"
   ]
  },
  {
   "cell_type": "markdown",
   "metadata": {},
   "source": [
    "------------"
   ]
  },
  {
   "cell_type": "markdown",
   "metadata": {},
   "source": [
    "In short, the bidirectional long-short term memory (LSTM) - abbreviated BiLSTM herein - is a variant of the recurrent neural network that, in the context of sentiment analysis, \n",
    "\n",
    " - Better preserves *long-range dependencies* between words\n",
    " - Considers the dependencies of a word on both *future* and *past* words (hence, operates in a bidirectional fashion)\n",
    "\n",
    "At a high-level, the attention layer aims to assign an \"importance\" factor to each word in the sequential input, helping the predictions of the network by guiding it as to how relevant each word in the input is to the prediction at the current time step. The mechanism by which the attention layer works is built by individually weighting the activation vectors at each timestep and combining them all to produce a single vector, which is further transformed to yield a final prediction vector (probablity of either diaster or non-disaster). \n",
    "\n",
    "For a more in-depth discussion into how a BiLSTM operates at a lower-level, please refer to the article [here](https://machinelearningmastery.com/develop-bidirectional-lstm-sequence-classification-python-keras/#:~:text=Bidirectional%20LSTMs%20are%20an%20extension,LSTMs%20on%20the%20input%20sequence.). In addition, a helpful dissection of the original attention paper is available in [this](https://towardsdatascience.com/attention-is-all-you-need-discovering-the-transformer-paper-73e5ff5e0634) article."
   ]
  },
  {
   "cell_type": "markdown",
   "metadata": {},
   "source": [
    "Now that the BiLSTM model has been introduced, let us get into the nitty-gritty implementation. The following code cells will cover\n",
    "\n",
    "- Data preparation (ie. preparing input for the neural net)\n",
    "- Construction of the attention layer,\n",
    "- Running the model,\n",
    "- Final evaluation of the model of our test data. "
   ]
  },
  {
   "cell_type": "markdown",
   "metadata": {},
   "source": [
    "Firstly, import all the appropriate libraries"
   ]
  },
  {
   "cell_type": "code",
   "execution_count": 36,
   "metadata": {
    "_cell_guid": "245b70d4-bc16-40a1-8b87-5787997df69d",
    "_uuid": "c7ac0f49-e55e-4d57-89f0-ba387bddafa8",
    "execution": {
     "iopub.execute_input": "2021-09-21T01:17:30.246750Z",
     "iopub.status.busy": "2021-09-21T01:17:30.246063Z",
     "iopub.status.idle": "2021-09-21T01:17:36.391513Z",
     "shell.execute_reply": "2021-09-21T01:17:36.390936Z"
    },
    "jupyter": {
     "outputs_hidden": false
    },
    "papermill": {
     "duration": 6.204583,
     "end_time": "2021-09-21T01:17:36.391729",
     "exception": false,
     "start_time": "2021-09-21T01:17:30.187146",
     "status": "completed"
    },
    "tags": []
   },
   "outputs": [],
   "source": [
    "import random\n",
    "from sklearn.utils import shuffle\n",
    "import tensorflow as tf\n",
    "import tensorflow.keras.backend as K\n",
    "from tensorflow import keras\n",
    "from tensorflow.keras.models import Sequential\n",
    "from tensorflow.keras.callbacks import EarlyStopping \n",
    "from tensorflow.keras.layers import Embedding, Flatten, Dense, LSTM, Dropout, MaxPooling1D, SpatialDropout1D, Conv1D\n",
    "from tensorflow.keras.layers import Bidirectional, BatchNormalization, Conv1D, MaxPooling1D, GlobalMaxPooling1D\n",
    "from tensorflow.keras.preprocessing.text import Tokenizer\n",
    "from tensorflow.keras.preprocessing.sequence import pad_sequences"
   ]
  },
  {
   "cell_type": "markdown",
   "metadata": {},
   "source": [
    "-----"
   ]
  },
  {
   "cell_type": "markdown",
   "metadata": {},
   "source": [
    "# 1. Data preparation"
   ]
  },
  {
   "cell_type": "markdown",
   "metadata": {},
   "source": [
    "----"
   ]
  },
  {
   "cell_type": "markdown",
   "metadata": {
    "_cell_guid": "1fe49063-fcbe-474b-8ae0-df13daf448a3",
    "_uuid": "3e8c53a8-8fe4-4de4-94b8-77cee9c4fcfc",
    "papermill": {
     "duration": 0.055288,
     "end_time": "2021-09-21T01:17:36.503166",
     "exception": false,
     "start_time": "2021-09-21T01:17:36.447878",
     "status": "completed"
    },
    "tags": []
   },
   "source": [
    "Our BiLSTM requires certain feature vectors as input. These vectors all need have the same length, so this first step gets what the maximum tweet length is in our corpus and uses this value as our max length"
   ]
  },
  {
   "cell_type": "code",
   "execution_count": 37,
   "metadata": {
    "_cell_guid": "951455d8-ac0e-4e64-9d48-35fa37a8555a",
    "_uuid": "46beaa78-fd8e-4fd1-bdfd-6b0cb1db33a2",
    "execution": {
     "iopub.execute_input": "2021-09-21T01:17:36.629186Z",
     "iopub.status.busy": "2021-09-21T01:17:36.628259Z",
     "iopub.status.idle": "2021-09-21T01:17:36.632016Z",
     "shell.execute_reply": "2021-09-21T01:17:36.632690Z"
    },
    "jupyter": {
     "outputs_hidden": false
    },
    "papermill": {
     "duration": 0.073744,
     "end_time": "2021-09-21T01:17:36.632889",
     "exception": false,
     "start_time": "2021-09-21T01:17:36.559145",
     "status": "completed"
    },
    "tags": []
   },
   "outputs": [
    {
     "name": "stdout",
     "output_type": "stream",
     "text": [
      "Maximum tweet length: 24\n"
     ]
    }
   ],
   "source": [
    "max_seq_len = 0\n",
    "for val in list(train_set.values()):\n",
    "    length = len(val.split())\n",
    "    max_seq_len = max(max_seq_len, length)\n",
    "print(\"Maximum tweet length: {}\".format(max_seq_len))"
   ]
  },
  {
   "cell_type": "markdown",
   "metadata": {},
   "source": [
    "Next, we need to prepare out vectorizer object. This is adapted to our training corpus and is used to create our tweet vectors (note: not word vectors yet). \n",
    "\n",
    "The tweet vectors themselves simply consist of all the indices of their words as they appear in the vocabulary dictionary. That is, the sentence \"a dog just ran by\" has an associated word vector that looks something like \"[0, 1789, 3456, 234]\", where each number represents the index for that word in our word vocabulary. \n",
    "\n",
    "Since our maximum vector length is 24 and all our vectors need to be of that length, tweets which aren't as long as 24 words are padded with zeros until a length of 24 is reached"
   ]
  },
  {
   "cell_type": "code",
   "execution_count": 39,
   "metadata": {
    "_cell_guid": "d00ce5f0-160f-4e9b-8fd9-bea85e16082b",
    "_uuid": "d1a72fda-f2e8-4576-9386-791d4d57b6fe",
    "execution": {
     "iopub.execute_input": "2021-09-21T01:17:36.752399Z",
     "iopub.status.busy": "2021-09-21T01:17:36.751509Z",
     "iopub.status.idle": "2021-09-21T01:17:37.084957Z",
     "shell.execute_reply": "2021-09-21T01:17:37.084214Z"
    },
    "jupyter": {
     "outputs_hidden": false
    },
    "papermill": {
     "duration": 0.395939,
     "end_time": "2021-09-21T01:17:37.085128",
     "exception": false,
     "start_time": "2021-09-21T01:17:36.689189",
     "status": "completed"
    },
    "tags": []
   },
   "outputs": [],
   "source": [
    "from tensorflow.keras.layers.experimental.preprocessing import TextVectorization\n",
    "\n",
    "#Vectorize only the top 5000 tokens of the training data, then fetch vocab.\n",
    "vectorizer = TextVectorization(max_tokens=5000, output_sequence_length=max_seq_len, standardize=None)\n",
    "vectorizer.adapt(list(train_set.values()) + list(validation_set.values()))\n",
    "\n",
    "vocab = vectorizer.get_vocabulary()"
   ]
  },
  {
   "cell_type": "markdown",
   "metadata": {},
   "source": [
    "Now, we vectorize the tweets in both the training and validation sets"
   ]
  },
  {
   "cell_type": "code",
   "execution_count": 40,
   "metadata": {
    "_cell_guid": "742ef23b-9c24-406f-925a-dd1bf5cc30a9",
    "_uuid": "3c2481b2-4201-461e-84e7-844e9b8551ec",
    "execution": {
     "iopub.execute_input": "2021-09-21T01:17:37.217423Z",
     "iopub.status.busy": "2021-09-21T01:17:37.216386Z",
     "iopub.status.idle": "2021-09-21T01:17:37.296158Z",
     "shell.execute_reply": "2021-09-21T01:17:37.296717Z"
    },
    "jupyter": {
     "outputs_hidden": false
    },
    "papermill": {
     "duration": 0.153692,
     "end_time": "2021-09-21T01:17:37.296927",
     "exception": false,
     "start_time": "2021-09-21T01:17:37.143235",
     "status": "completed"
    },
    "tags": []
   },
   "outputs": [
    {
     "name": "stdout",
     "output_type": "stream",
     "text": [
      "Shape of training data: (5270, 24)\n",
      "Shape of validation data: (1757, 24)\n"
     ]
    }
   ],
   "source": [
    "X_train = vectorizer(np.array([[s] for s in list(train_set.values())])).numpy()\n",
    "y_train = np.array(list(train_labels.values()))\n",
    "\n",
    "X_valid = vectorizer(np.array([[s] for s in list(validation_set.values())])).numpy()\n",
    "y_valid = np.array(list(validation_labels.values()))\n",
    "\n",
    "print(f\"Shape of training data: {X_train.shape}\")\n",
    "print(f\"Shape of validation data: {X_valid.shape}\")"
   ]
  },
  {
   "cell_type": "code",
   "execution_count": 43,
   "metadata": {},
   "outputs": [
    {
     "data": {
      "text/plain": [
       "array([  31, 1034,   69,  447,   39, 3060, 1278,   18,    0,    0,    0,\n",
       "          0,    0,    0,    0,    0,    0,    0,    0,    0,    0,    0,\n",
       "          0,    0], dtype=int64)"
      ]
     },
     "execution_count": 43,
     "metadata": {},
     "output_type": "execute_result"
    }
   ],
   "source": [
    "X_train[0]"
   ]
  },
  {
   "cell_type": "markdown",
   "metadata": {},
   "source": [
    "As you can see above, the first tweet in the training set has been padded after the 8th character with zeros"
   ]
  },
  {
   "cell_type": "markdown",
   "metadata": {},
   "source": [
    "Now, we move on to create our *word* vectors. The word vectors are created using an embedding matrix, which in our case consists of rows of 100-d vectors. \n",
    "\n",
    "These 100-d vectors are infact learned weight vectors, the origin of which is irrelevant for now. The point is that these weight vectors are associated which each word in our vocabulary, and convey information regarding the word's \"similarity\" other words. These word vectors are dense representations, and serve as good inputs to the neural net (unlike, say, one-hot encodings of our words which suffer from sparseness)\n",
    "\n",
    "The following code cell defines the `build_embedding_matrix` function, which does exactly what you think it would do: build the embedding matrix!"
   ]
  },
  {
   "cell_type": "code",
   "execution_count": 45,
   "metadata": {
    "_cell_guid": "a1f2367c-bcd7-44bd-a177-91bc752a263d",
    "_uuid": "0193d9ad-f756-41af-a96d-1700cf92f21c",
    "execution": {
     "iopub.execute_input": "2021-09-21T01:17:37.424733Z",
     "iopub.status.busy": "2021-09-21T01:17:37.424013Z",
     "iopub.status.idle": "2021-09-21T01:17:37.427761Z",
     "shell.execute_reply": "2021-09-21T01:17:37.427100Z"
    },
    "jupyter": {
     "outputs_hidden": false
    },
    "papermill": {
     "duration": 0.072228,
     "end_time": "2021-09-21T01:17:37.427907",
     "exception": false,
     "start_time": "2021-09-21T01:17:37.355679",
     "status": "completed"
    },
    "tags": []
   },
   "outputs": [],
   "source": [
    "fname = \"glove.6B.100d.txt\"\n",
    "def build_embedding_matrix(fname, vocab, embedding_dim=100):\n",
    "    \n",
    "    #First two elems of matrix are for padding, <UNK> tokens\n",
    "    matrix, embedding_map = np.zeros((len(vocab)+2, embedding_dim)), {}\n",
    "    with open(fname, \"r\", encoding='utf8') as f:\n",
    "        for line in f.readlines():\n",
    "            \n",
    "            elems = line.split()\n",
    "            #First element is word, rest are vector entries\n",
    "            token = elems[0]\n",
    "            vec = np.array([float(x) for x in elems[1:]])\n",
    "            #Get the index of the word in our word tokens list\n",
    "            #Then place the vector at position given by index\n",
    "            embedding_map[token] = vec\n",
    "    \n",
    "    suc, fail = 0, 0\n",
    "    wordmap = dict(zip(vocab, range(len(vocab))))\n",
    "    for word, i in wordmap.items():\n",
    "        #Only words in vocab that have embedding can be used\n",
    "        vec = embedding_map.get(word)\n",
    "        if vec is not None:\n",
    "            matrix[i] = vec\n",
    "            suc += 1\n",
    "        else:\n",
    "            fail += 1\n",
    "    \n",
    "    print(f\"Number of words successfully embedded: {suc}, Unsuccessful attempts: {fail}\")\n",
    "    return matrix"
   ]
  },
  {
   "cell_type": "markdown",
   "metadata": {},
   "source": [
    "Now, create the matrix"
   ]
  },
  {
   "cell_type": "code",
   "execution_count": 46,
   "metadata": {
    "_cell_guid": "336cc718-73ff-4883-9295-856fad4fd7d8",
    "_uuid": "9ae7eff6-47be-4d5d-a2e1-bb5fffdd40c3",
    "execution": {
     "iopub.execute_input": "2021-09-21T01:17:37.549207Z",
     "iopub.status.busy": "2021-09-21T01:17:37.548518Z",
     "iopub.status.idle": "2021-09-21T01:18:01.109656Z",
     "shell.execute_reply": "2021-09-21T01:18:01.108505Z"
    },
    "jupyter": {
     "outputs_hidden": false
    },
    "papermill": {
     "duration": 23.623535,
     "end_time": "2021-09-21T01:18:01.109822",
     "exception": false,
     "start_time": "2021-09-21T01:17:37.486287",
     "status": "completed"
    },
    "tags": []
   },
   "outputs": [
    {
     "name": "stdout",
     "output_type": "stream",
     "text": [
      "Number of words successfully embedded: 4666, Unsuccessful attempts: 334\n"
     ]
    }
   ],
   "source": [
    "#Takes a second...\n",
    "embedding_matrix = build_embedding_matrix(fname, vocab)"
   ]
  },
  {
   "cell_type": "code",
   "execution_count": 47,
   "metadata": {
    "_cell_guid": "ee9a9004-34a3-41d3-8515-714bec052479",
    "_uuid": "851e0112-8686-4366-92ee-ed4f650a6b86",
    "execution": {
     "iopub.execute_input": "2021-09-21T01:18:01.228094Z",
     "iopub.status.busy": "2021-09-21T01:18:01.227367Z",
     "iopub.status.idle": "2021-09-21T01:18:01.230297Z",
     "shell.execute_reply": "2021-09-21T01:18:01.230847Z"
    },
    "jupyter": {
     "outputs_hidden": false
    },
    "papermill": {
     "duration": 0.064343,
     "end_time": "2021-09-21T01:18:01.231034",
     "exception": false,
     "start_time": "2021-09-21T01:18:01.166691",
     "status": "completed"
    },
    "tags": []
   },
   "outputs": [
    {
     "name": "stdout",
     "output_type": "stream",
     "text": [
      "Shape of the embedding matrix: (5002, 100)\n"
     ]
    }
   ],
   "source": [
    "print(f\"Shape of the embedding matrix: {embedding_matrix.shape}\")"
   ]
  },
  {
   "cell_type": "markdown",
   "metadata": {},
   "source": [
    "Now that the matrix is created, we can use it to define an `Embedding` layer for our neural network"
   ]
  },
  {
   "cell_type": "code",
   "execution_count": 50,
   "metadata": {
    "_cell_guid": "b50a5de9-2381-47e2-9b24-e775fd433975",
    "_uuid": "24adc1d4-eaa6-4f36-846e-073af2b6938d",
    "execution": {
     "iopub.execute_input": "2021-09-21T01:18:01.358181Z",
     "iopub.status.busy": "2021-09-21T01:18:01.357454Z",
     "iopub.status.idle": "2021-09-21T01:18:01.360590Z",
     "shell.execute_reply": "2021-09-21T01:18:01.360050Z"
    },
    "jupyter": {
     "outputs_hidden": false
    },
    "papermill": {
     "duration": 0.070518,
     "end_time": "2021-09-21T01:18:01.360807",
     "exception": false,
     "start_time": "2021-09-21T01:18:01.290289",
     "status": "completed"
    },
    "tags": []
   },
   "outputs": [],
   "source": [
    "num_tokens = embedding_matrix.shape[0]\n",
    "embedding_dim = embedding_matrix.shape[1]\n",
    "max_seq_len = X_train.shape[1]\n",
    "\n",
    "embedding_layer = Embedding(\n",
    "    num_tokens,\n",
    "    embedding_dim,\n",
    "    embeddings_initializer = keras.initializers.Constant(embedding_matrix),\n",
    "    trainable=False,\n",
    "    input_length = max_seq_len\n",
    ")"
   ]
  },
  {
   "cell_type": "markdown",
   "metadata": {},
   "source": [
    "----"
   ]
  },
  {
   "cell_type": "markdown",
   "metadata": {
    "_cell_guid": "913cae30-4e41-4c71-a54c-673eced8313d",
    "_uuid": "47ca7c52-6ac2-46d1-9caf-c1567106fd73",
    "papermill": {
     "duration": 0.057334,
     "end_time": "2021-09-21T01:18:01.477161",
     "exception": false,
     "start_time": "2021-09-21T01:18:01.419827",
     "status": "completed"
    },
    "tags": []
   },
   "source": [
    "# 2. Create the attention layer"
   ]
  },
  {
   "cell_type": "markdown",
   "metadata": {},
   "source": [
    "----"
   ]
  },
  {
   "cell_type": "markdown",
   "metadata": {},
   "source": [
    "This deserves some attention (hah). As mentioned previously, the idea behind attention is to perform a linear combination of a bunch of activation vectors. This is done in the call function. The linear combination is passed throuh a hyperbolic tangent non-linearity followed by a softmax layer to yield a probability vector."
   ]
  },
  {
   "cell_type": "code",
   "execution_count": 55,
   "metadata": {
    "_cell_guid": "8c881a3c-db08-407e-94fa-45de44592919",
    "_uuid": "d04f0eb7-ac7f-41bc-bb80-07089eb31381",
    "execution": {
     "iopub.execute_input": "2021-09-21T01:18:01.606859Z",
     "iopub.status.busy": "2021-09-21T01:18:01.606043Z",
     "iopub.status.idle": "2021-09-21T01:18:01.608387Z",
     "shell.execute_reply": "2021-09-21T01:18:01.608899Z"
    },
    "jupyter": {
     "outputs_hidden": false
    },
    "papermill": {
     "duration": 0.072409,
     "end_time": "2021-09-21T01:18:01.609093",
     "exception": false,
     "start_time": "2021-09-21T01:18:01.536684",
     "status": "completed"
    },
    "tags": []
   },
   "outputs": [],
   "source": [
    "class Attention(keras.layers.Layer):\n",
    "    \n",
    "    def __init__(self, return_sequences=True):\n",
    "        self.return_sequences=return_sequences\n",
    "        super(Attention, self).__init__()\n",
    "        \n",
    "    def get_config(self):\n",
    "        config = super().get_config().copy()\n",
    "        config.update({'return_sequences': self.return_sequences})\n",
    "        return config\n",
    "    \n",
    "    def build(self, input_shape):\n",
    "        ##last index of the input_shape is the number of dimensions of the prev\n",
    "        ##RNN layer. last but 1 index is the num of timesteps\n",
    "        self.w=self.add_weight(shape=(input_shape[-1], 1), initializer=\"normal\", name='weight')\n",
    "        self.b=self.add_weight(shape=(input_shape[1], 1), initializer=\"zeros\", name='bias')\n",
    "        \n",
    "        super(Attention, self).build(input_shape)\n",
    "        \n",
    "    def call(self, x):\n",
    "        ##x is the input tensor..each word that needs to be attended to\n",
    "        ##Below is the main processing done during training\n",
    "        ##K is the Keras Backend import\n",
    "        e = K.tanh(K.dot(x,self.w)+self.b)\n",
    "        a = K.softmax(e, axis=1)\n",
    "        output = x*a\n",
    "        \n",
    "        if self.return_sequences:\n",
    "            return output\n",
    "        \n",
    "\n",
    "        return K.sum(output, axis=1)"
   ]
  },
  {
   "cell_type": "markdown",
   "metadata": {},
   "source": [
    "----"
   ]
  },
  {
   "cell_type": "markdown",
   "metadata": {
    "papermill": {
     "duration": 0.057828,
     "end_time": "2021-09-21T01:18:01.724941",
     "exception": false,
     "start_time": "2021-09-21T01:18:01.667113",
     "status": "completed"
    },
    "tags": []
   },
   "source": [
    "# 3. Creating/running the model"
   ]
  },
  {
   "cell_type": "markdown",
   "metadata": {},
   "source": [
    "----"
   ]
  },
  {
   "cell_type": "markdown",
   "metadata": {},
   "source": [
    "Below, we create our BiLSTM and run it on the training and validation data.\n",
    "\n",
    "As we can see below, the model consists of:\n",
    "\n",
    "- The embedding layer (to vectorize our words)\n",
    "- A spatial dropout layer (with p = 0.50)\n",
    "- The BiLSTM layer (with dropout p = 0.20 and a recurrent dropout p = 0.20\n",
    "- A standard dropout layer (p = 0.50 again)\n",
    "- The Attention layer\n",
    "- A final dense (fully-connected) layer with a sigmoid activation function (since we doing binary classification)"
   ]
  },
  {
   "cell_type": "code",
   "execution_count": 57,
   "metadata": {
    "_cell_guid": "922cc969-75a9-4226-9480-590157fe0f60",
    "_uuid": "e655f4eb-d44f-4291-935b-f755167a2df0",
    "execution": {
     "iopub.execute_input": "2021-09-21T01:18:01.882582Z",
     "iopub.status.busy": "2021-09-21T01:18:01.879518Z",
     "iopub.status.idle": "2021-09-21T01:18:02.333481Z",
     "shell.execute_reply": "2021-09-21T01:18:02.333989Z"
    },
    "jupyter": {
     "outputs_hidden": false
    },
    "papermill": {
     "duration": 0.546953,
     "end_time": "2021-09-21T01:18:02.334206",
     "exception": false,
     "start_time": "2021-09-21T01:18:01.787253",
     "status": "completed"
    },
    "tags": []
   },
   "outputs": [
    {
     "name": "stdout",
     "output_type": "stream",
     "text": [
      "Model: \"sequential_4\"\n",
      "_________________________________________________________________\n",
      "Layer (type)                 Output Shape              Param #   \n",
      "=================================================================\n",
      "embedding (Embedding)        (None, 24, 100)           500200    \n",
      "_________________________________________________________________\n",
      "spatial_dropout1d_3 (Spatial (None, 24, 100)           0         \n",
      "_________________________________________________________________\n",
      "bidirectional_3 (Bidirection (None, 24, 48)            24000     \n",
      "_________________________________________________________________\n",
      "dropout_3 (Dropout)          (None, 24, 48)            0         \n",
      "_________________________________________________________________\n",
      "attention_2 (Attention)      (None, 48)                72        \n",
      "_________________________________________________________________\n",
      "dense_1 (Dense)              (None, 1)                 49        \n",
      "=================================================================\n",
      "Total params: 524,321\n",
      "Trainable params: 24,121\n",
      "Non-trainable params: 500,200\n",
      "_________________________________________________________________\n"
     ]
    }
   ],
   "source": [
    "model = Sequential()\n",
    "model.add(embedding_layer)\n",
    "model.add(SpatialDropout1D(0.50))\n",
    "model.add(Bidirectional(LSTM(max_seq_len, dropout=0.2, recurrent_dropout=0.2, return_sequences=True)))\n",
    "model.add(Dropout(0.5))\n",
    "model.add(Attention(return_sequences=False))\n",
    "model.add(Dense(1, activation='sigmoid'))\n",
    "\n",
    "model.summary()"
   ]
  },
  {
   "cell_type": "markdown",
   "metadata": {},
   "source": [
    "Set out model hyperparameters"
   ]
  },
  {
   "cell_type": "code",
   "execution_count": 59,
   "metadata": {
    "_cell_guid": "69bc7dde-be58-4926-8783-457207c5b4fe",
    "_uuid": "e2613538-2108-41e3-8606-10df26099d31",
    "execution": {
     "iopub.execute_input": "2021-09-21T01:18:02.458140Z",
     "iopub.status.busy": "2021-09-21T01:18:02.457153Z",
     "iopub.status.idle": "2021-09-21T01:18:02.460954Z",
     "shell.execute_reply": "2021-09-21T01:18:02.460354Z"
    },
    "jupyter": {
     "outputs_hidden": false
    },
    "papermill": {
     "duration": 0.06741,
     "end_time": "2021-09-21T01:18:02.461113",
     "exception": false,
     "start_time": "2021-09-21T01:18:02.393703",
     "status": "completed"
    },
    "tags": []
   },
   "outputs": [],
   "source": [
    "batch_size = 128\n",
    "epochs = 100\n",
    "lr = 0.001"
   ]
  },
  {
   "cell_type": "markdown",
   "metadata": {},
   "source": [
    "Allow early stopping if the model validation loss stagnates for a certain time"
   ]
  },
  {
   "cell_type": "code",
   "execution_count": 60,
   "metadata": {
    "_cell_guid": "a22989d4-58bb-4e07-ae1a-fbd541504a00",
    "_uuid": "4e0680bc-e2e2-4c02-a94f-3079616c96ac",
    "execution": {
     "iopub.execute_input": "2021-09-21T01:18:02.701156Z",
     "iopub.status.busy": "2021-09-21T01:18:02.700225Z",
     "iopub.status.idle": "2021-09-21T01:18:02.703567Z",
     "shell.execute_reply": "2021-09-21T01:18:02.703025Z"
    },
    "jupyter": {
     "outputs_hidden": false
    },
    "papermill": {
     "duration": 0.067007,
     "end_time": "2021-09-21T01:18:02.703747",
     "exception": false,
     "start_time": "2021-09-21T01:18:02.636740",
     "status": "completed"
    },
    "tags": []
   },
   "outputs": [],
   "source": [
    "#Enable early stopping if the validation loss hasn't been decreasing for 20 epochs\n",
    "es = EarlyStopping(monitor='val_loss', mode='min', verbose=1, patience=20)"
   ]
  },
  {
   "cell_type": "markdown",
   "metadata": {
    "_cell_guid": "d9ccdf6a-8215-462d-8e45-1316d812cf09",
    "_uuid": "d13fbbe7-8821-4c0e-bbdf-342b60628bdf",
    "papermill": {
     "duration": 0.058289,
     "end_time": "2021-09-21T01:18:02.578253",
     "exception": false,
     "start_time": "2021-09-21T01:18:02.519964",
     "status": "completed"
    },
    "tags": []
   },
   "source": [
    "Finally, train the model!"
   ]
  },
  {
   "cell_type": "code",
   "execution_count": 61,
   "metadata": {
    "_cell_guid": "24433ae5-f13d-47e9-b37c-b701f95da8e7",
    "_uuid": "2e70887b-fec4-41aa-a352-35dca0f801ba",
    "execution": {
     "iopub.execute_input": "2021-09-21T01:18:02.840995Z",
     "iopub.status.busy": "2021-09-21T01:18:02.840268Z",
     "iopub.status.idle": "2021-09-21T01:22:43.656224Z",
     "shell.execute_reply": "2021-09-21T01:22:43.647331Z"
    },
    "jupyter": {
     "outputs_hidden": false
    },
    "papermill": {
     "duration": 280.893713,
     "end_time": "2021-09-21T01:22:43.656394",
     "exception": false,
     "start_time": "2021-09-21T01:18:02.762681",
     "status": "completed"
    },
    "tags": []
   },
   "outputs": [
    {
     "name": "stdout",
     "output_type": "stream",
     "text": [
      "Epoch 1/100\n",
      "42/42 [==============================] - 2s 39ms/step - loss: 0.6707 - accuracy: 0.6078 - val_loss: 0.6012 - val_accuracy: 0.7382\n",
      "Epoch 2/100\n",
      "42/42 [==============================] - 1s 28ms/step - loss: 0.5804 - accuracy: 0.7127 - val_loss: 0.4968 - val_accuracy: 0.7672\n",
      "Epoch 3/100\n",
      "42/42 [==============================] - 1s 27ms/step - loss: 0.5296 - accuracy: 0.7395 - val_loss: 0.4829 - val_accuracy: 0.7695\n",
      "Epoch 4/100\n",
      "42/42 [==============================] - 1s 27ms/step - loss: 0.5198 - accuracy: 0.7454 - val_loss: 0.4745 - val_accuracy: 0.7832\n",
      "Epoch 5/100\n",
      "42/42 [==============================] - 1s 27ms/step - loss: 0.5127 - accuracy: 0.7499 - val_loss: 0.4681 - val_accuracy: 0.7792\n",
      "Epoch 6/100\n",
      "42/42 [==============================] - 1s 27ms/step - loss: 0.5046 - accuracy: 0.7474 - val_loss: 0.4602 - val_accuracy: 0.7871\n",
      "Epoch 7/100\n",
      "42/42 [==============================] - 1s 26ms/step - loss: 0.5067 - accuracy: 0.7474 - val_loss: 0.4707 - val_accuracy: 0.7752\n",
      "Epoch 8/100\n",
      "42/42 [==============================] - 1s 26ms/step - loss: 0.4947 - accuracy: 0.7552 - val_loss: 0.4590 - val_accuracy: 0.7860\n",
      "Epoch 9/100\n",
      "42/42 [==============================] - 1s 26ms/step - loss: 0.4880 - accuracy: 0.7658 - val_loss: 0.4551 - val_accuracy: 0.7888\n",
      "Epoch 10/100\n",
      "42/42 [==============================] - 1s 28ms/step - loss: 0.4918 - accuracy: 0.7670 - val_loss: 0.4566 - val_accuracy: 0.7866\n",
      "Epoch 11/100\n",
      "42/42 [==============================] - 1s 27ms/step - loss: 0.4829 - accuracy: 0.7706 - val_loss: 0.4550 - val_accuracy: 0.7877\n",
      "Epoch 12/100\n",
      "42/42 [==============================] - 1s 27ms/step - loss: 0.4960 - accuracy: 0.7569 - val_loss: 0.4585 - val_accuracy: 0.7849\n",
      "Epoch 13/100\n",
      "42/42 [==============================] - 1s 27ms/step - loss: 0.4849 - accuracy: 0.7693 - val_loss: 0.4487 - val_accuracy: 0.7900\n",
      "Epoch 14/100\n",
      "42/42 [==============================] - 1s 26ms/step - loss: 0.4786 - accuracy: 0.7769 - val_loss: 0.4517 - val_accuracy: 0.7923\n",
      "Epoch 15/100\n",
      "42/42 [==============================] - 1s 26ms/step - loss: 0.4820 - accuracy: 0.7677 - val_loss: 0.4437 - val_accuracy: 0.7945\n",
      "Epoch 16/100\n",
      "42/42 [==============================] - 1s 26ms/step - loss: 0.4764 - accuracy: 0.7776 - val_loss: 0.4431 - val_accuracy: 0.7940\n",
      "Epoch 17/100\n",
      "42/42 [==============================] - 1s 26ms/step - loss: 0.4714 - accuracy: 0.7734 - val_loss: 0.4371 - val_accuracy: 0.7991\n",
      "Epoch 18/100\n",
      "42/42 [==============================] - 1s 27ms/step - loss: 0.4710 - accuracy: 0.7713 - val_loss: 0.4497 - val_accuracy: 0.7923\n",
      "Epoch 19/100\n",
      "42/42 [==============================] - 1s 27ms/step - loss: 0.4738 - accuracy: 0.7706 - val_loss: 0.4420 - val_accuracy: 0.7991\n",
      "Epoch 20/100\n",
      "42/42 [==============================] - 1s 27ms/step - loss: 0.4655 - accuracy: 0.7774 - val_loss: 0.4342 - val_accuracy: 0.7997\n",
      "Epoch 21/100\n",
      "42/42 [==============================] - 1s 27ms/step - loss: 0.4599 - accuracy: 0.7791 - val_loss: 0.4320 - val_accuracy: 0.8025\n",
      "Epoch 22/100\n",
      "42/42 [==============================] - 1s 27ms/step - loss: 0.4611 - accuracy: 0.7814 - val_loss: 0.4335 - val_accuracy: 0.8025\n",
      "Epoch 23/100\n",
      "42/42 [==============================] - 1s 26ms/step - loss: 0.4569 - accuracy: 0.7852 - val_loss: 0.4299 - val_accuracy: 0.8036\n",
      "Epoch 24/100\n",
      "42/42 [==============================] - 1s 26ms/step - loss: 0.4506 - accuracy: 0.7907 - val_loss: 0.4348 - val_accuracy: 0.8002\n",
      "Epoch 25/100\n",
      "42/42 [==============================] - 1s 26ms/step - loss: 0.4571 - accuracy: 0.7880 - val_loss: 0.4231 - val_accuracy: 0.8076\n",
      "Epoch 26/100\n",
      "42/42 [==============================] - 1s 27ms/step - loss: 0.4483 - accuracy: 0.7867 - val_loss: 0.4226 - val_accuracy: 0.8076\n",
      "Epoch 27/100\n",
      "42/42 [==============================] - 1s 27ms/step - loss: 0.4476 - accuracy: 0.7918 - val_loss: 0.4223 - val_accuracy: 0.8048\n",
      "Epoch 28/100\n",
      "42/42 [==============================] - 1s 26ms/step - loss: 0.4525 - accuracy: 0.7856 - val_loss: 0.4166 - val_accuracy: 0.8133\n",
      "Epoch 29/100\n",
      "42/42 [==============================] - 1s 27ms/step - loss: 0.4392 - accuracy: 0.7983 - val_loss: 0.4209 - val_accuracy: 0.8082\n",
      "Epoch 30/100\n",
      "42/42 [==============================] - 1s 26ms/step - loss: 0.4545 - accuracy: 0.7861 - val_loss: 0.4303 - val_accuracy: 0.8025\n",
      "Epoch 31/100\n",
      "42/42 [==============================] - 1s 26ms/step - loss: 0.4467 - accuracy: 0.7875 - val_loss: 0.4363 - val_accuracy: 0.7997\n",
      "Epoch 32/100\n",
      "42/42 [==============================] - 1s 27ms/step - loss: 0.4442 - accuracy: 0.7843 - val_loss: 0.4120 - val_accuracy: 0.8150\n",
      "Epoch 33/100\n",
      "42/42 [==============================] - 1s 28ms/step - loss: 0.4406 - accuracy: 0.7917 - val_loss: 0.4250 - val_accuracy: 0.8133\n",
      "Epoch 34/100\n",
      "42/42 [==============================] - 1s 26ms/step - loss: 0.4368 - accuracy: 0.8023 - val_loss: 0.4103 - val_accuracy: 0.8139\n",
      "Epoch 35/100\n",
      "42/42 [==============================] - 1s 26ms/step - loss: 0.4314 - accuracy: 0.8009 - val_loss: 0.4101 - val_accuracy: 0.8150\n",
      "Epoch 36/100\n",
      "42/42 [==============================] - 1s 26ms/step - loss: 0.4341 - accuracy: 0.7966 - val_loss: 0.4078 - val_accuracy: 0.8162\n",
      "Epoch 37/100\n",
      "42/42 [==============================] - 1s 27ms/step - loss: 0.4347 - accuracy: 0.7947 - val_loss: 0.4061 - val_accuracy: 0.8207\n",
      "Epoch 38/100\n",
      "42/42 [==============================] - 1s 27ms/step - loss: 0.4242 - accuracy: 0.8049 - val_loss: 0.4069 - val_accuracy: 0.8213\n",
      "Epoch 39/100\n",
      "42/42 [==============================] - 1s 29ms/step - loss: 0.4278 - accuracy: 0.7973 - val_loss: 0.4082 - val_accuracy: 0.8190\n",
      "Epoch 40/100\n",
      "42/42 [==============================] - 1s 27ms/step - loss: 0.4328 - accuracy: 0.8047 - val_loss: 0.3958 - val_accuracy: 0.8258\n",
      "Epoch 41/100\n",
      "42/42 [==============================] - 1s 27ms/step - loss: 0.4320 - accuracy: 0.8028 - val_loss: 0.4060 - val_accuracy: 0.8196\n",
      "Epoch 42/100\n",
      "42/42 [==============================] - 1s 26ms/step - loss: 0.4255 - accuracy: 0.8057 - val_loss: 0.3949 - val_accuracy: 0.8213\n",
      "Epoch 43/100\n",
      "42/42 [==============================] - 1s 28ms/step - loss: 0.4226 - accuracy: 0.8019 - val_loss: 0.3919 - val_accuracy: 0.8275\n",
      "Epoch 44/100\n",
      "42/42 [==============================] - 1s 28ms/step - loss: 0.4285 - accuracy: 0.7956 - val_loss: 0.3912 - val_accuracy: 0.8230\n",
      "Epoch 45/100\n",
      "42/42 [==============================] - 1s 27ms/step - loss: 0.4221 - accuracy: 0.8042 - val_loss: 0.3941 - val_accuracy: 0.8247\n",
      "Epoch 46/100\n",
      "42/42 [==============================] - 1s 27ms/step - loss: 0.4266 - accuracy: 0.8011 - val_loss: 0.3921 - val_accuracy: 0.8264\n",
      "Epoch 47/100\n",
      "42/42 [==============================] - 1s 27ms/step - loss: 0.4194 - accuracy: 0.8053 - val_loss: 0.3981 - val_accuracy: 0.8270\n",
      "Epoch 48/100\n",
      "42/42 [==============================] - 1s 27ms/step - loss: 0.4149 - accuracy: 0.8116 - val_loss: 0.3967 - val_accuracy: 0.8275\n",
      "Epoch 49/100\n",
      "42/42 [==============================] - 1s 27ms/step - loss: 0.4146 - accuracy: 0.8004 - val_loss: 0.3870 - val_accuracy: 0.8287\n",
      "Epoch 50/100\n",
      "42/42 [==============================] - 1s 26ms/step - loss: 0.4226 - accuracy: 0.8074 - val_loss: 0.3848 - val_accuracy: 0.8230\n",
      "Epoch 51/100\n",
      "42/42 [==============================] - 1s 26ms/step - loss: 0.4202 - accuracy: 0.8034 - val_loss: 0.3919 - val_accuracy: 0.8287\n",
      "Epoch 52/100\n",
      "42/42 [==============================] - 1s 26ms/step - loss: 0.4150 - accuracy: 0.8102 - val_loss: 0.3822 - val_accuracy: 0.8287\n",
      "Epoch 53/100\n",
      "42/42 [==============================] - 1s 26ms/step - loss: 0.4129 - accuracy: 0.8078 - val_loss: 0.3864 - val_accuracy: 0.8332\n",
      "Epoch 54/100\n",
      "42/42 [==============================] - 1s 26ms/step - loss: 0.4041 - accuracy: 0.8205 - val_loss: 0.3889 - val_accuracy: 0.8327\n",
      "Epoch 55/100\n",
      "42/42 [==============================] - 1s 26ms/step - loss: 0.4134 - accuracy: 0.8082 - val_loss: 0.3881 - val_accuracy: 0.8293\n",
      "Epoch 56/100\n",
      "42/42 [==============================] - 1s 26ms/step - loss: 0.4088 - accuracy: 0.8142 - val_loss: 0.3849 - val_accuracy: 0.8310\n",
      "Epoch 57/100\n",
      "42/42 [==============================] - 1s 27ms/step - loss: 0.4117 - accuracy: 0.8082 - val_loss: 0.3870 - val_accuracy: 0.8327\n",
      "Epoch 58/100\n"
     ]
    },
    {
     "name": "stdout",
     "output_type": "stream",
     "text": [
      "42/42 [==============================] - 1s 26ms/step - loss: 0.4061 - accuracy: 0.8161 - val_loss: 0.3817 - val_accuracy: 0.8344\n",
      "Epoch 59/100\n",
      "42/42 [==============================] - 1s 26ms/step - loss: 0.4002 - accuracy: 0.8146 - val_loss: 0.3765 - val_accuracy: 0.8327\n",
      "Epoch 60/100\n",
      "42/42 [==============================] - 1s 27ms/step - loss: 0.4103 - accuracy: 0.8133 - val_loss: 0.3778 - val_accuracy: 0.8384\n",
      "Epoch 61/100\n",
      "42/42 [==============================] - 1s 26ms/step - loss: 0.3945 - accuracy: 0.8205 - val_loss: 0.3858 - val_accuracy: 0.8349\n",
      "Epoch 62/100\n",
      "42/42 [==============================] - 1s 26ms/step - loss: 0.4020 - accuracy: 0.8156 - val_loss: 0.3832 - val_accuracy: 0.8349\n",
      "Epoch 63/100\n",
      "42/42 [==============================] - 1s 26ms/step - loss: 0.4013 - accuracy: 0.8137 - val_loss: 0.3729 - val_accuracy: 0.8327\n",
      "Epoch 64/100\n",
      "42/42 [==============================] - 1s 26ms/step - loss: 0.4034 - accuracy: 0.8184 - val_loss: 0.3733 - val_accuracy: 0.8338\n",
      "Epoch 65/100\n",
      "42/42 [==============================] - 1s 25ms/step - loss: 0.4062 - accuracy: 0.8102 - val_loss: 0.3849 - val_accuracy: 0.8361\n",
      "Epoch 66/100\n",
      "42/42 [==============================] - 1s 25ms/step - loss: 0.3952 - accuracy: 0.8201 - val_loss: 0.3663 - val_accuracy: 0.8423\n",
      "Epoch 67/100\n",
      "42/42 [==============================] - 1s 26ms/step - loss: 0.4041 - accuracy: 0.8173 - val_loss: 0.3599 - val_accuracy: 0.8412\n",
      "Epoch 68/100\n",
      "42/42 [==============================] - 1s 25ms/step - loss: 0.4003 - accuracy: 0.8167 - val_loss: 0.3597 - val_accuracy: 0.8412\n",
      "Epoch 69/100\n",
      "42/42 [==============================] - 1s 26ms/step - loss: 0.3915 - accuracy: 0.8211 - val_loss: 0.3812 - val_accuracy: 0.8412\n",
      "Epoch 70/100\n",
      "42/42 [==============================] - 1s 26ms/step - loss: 0.4025 - accuracy: 0.8163 - val_loss: 0.3542 - val_accuracy: 0.8446\n",
      "Epoch 71/100\n",
      "42/42 [==============================] - 1s 26ms/step - loss: 0.3987 - accuracy: 0.8195 - val_loss: 0.3610 - val_accuracy: 0.8446\n",
      "Epoch 72/100\n",
      "42/42 [==============================] - 1s 26ms/step - loss: 0.3898 - accuracy: 0.8235 - val_loss: 0.3568 - val_accuracy: 0.8515\n",
      "Epoch 73/100\n",
      "42/42 [==============================] - 1s 26ms/step - loss: 0.3986 - accuracy: 0.8256 - val_loss: 0.3539 - val_accuracy: 0.8509\n",
      "Epoch 74/100\n",
      "42/42 [==============================] - 1s 25ms/step - loss: 0.3852 - accuracy: 0.8269 - val_loss: 0.3589 - val_accuracy: 0.8492\n",
      "Epoch 75/100\n",
      "42/42 [==============================] - 1s 25ms/step - loss: 0.3934 - accuracy: 0.8254 - val_loss: 0.3608 - val_accuracy: 0.8452\n",
      "Epoch 76/100\n",
      "42/42 [==============================] - 1s 26ms/step - loss: 0.3961 - accuracy: 0.8214 - val_loss: 0.3568 - val_accuracy: 0.8480\n",
      "Epoch 77/100\n",
      "42/42 [==============================] - 1s 26ms/step - loss: 0.3846 - accuracy: 0.8241 - val_loss: 0.3556 - val_accuracy: 0.8480\n",
      "Epoch 78/100\n",
      "42/42 [==============================] - 1s 26ms/step - loss: 0.3956 - accuracy: 0.8194 - val_loss: 0.3506 - val_accuracy: 0.8452\n",
      "Epoch 79/100\n",
      "42/42 [==============================] - 1s 26ms/step - loss: 0.3925 - accuracy: 0.8271 - val_loss: 0.3535 - val_accuracy: 0.8509\n",
      "Epoch 80/100\n",
      "42/42 [==============================] - 1s 26ms/step - loss: 0.3855 - accuracy: 0.8300 - val_loss: 0.3521 - val_accuracy: 0.8509\n",
      "Epoch 81/100\n",
      "42/42 [==============================] - 1s 26ms/step - loss: 0.3872 - accuracy: 0.8281 - val_loss: 0.3511 - val_accuracy: 0.8509\n",
      "Epoch 82/100\n",
      "42/42 [==============================] - 1s 25ms/step - loss: 0.3886 - accuracy: 0.8249 - val_loss: 0.3529 - val_accuracy: 0.8463\n",
      "Epoch 83/100\n",
      "42/42 [==============================] - 1s 26ms/step - loss: 0.3869 - accuracy: 0.8254 - val_loss: 0.3589 - val_accuracy: 0.8486\n",
      "Epoch 84/100\n",
      "42/42 [==============================] - 1s 26ms/step - loss: 0.3779 - accuracy: 0.8258 - val_loss: 0.3656 - val_accuracy: 0.8475\n",
      "Epoch 85/100\n",
      "42/42 [==============================] - 1s 26ms/step - loss: 0.3854 - accuracy: 0.8298 - val_loss: 0.3528 - val_accuracy: 0.8497\n",
      "Epoch 86/100\n",
      "42/42 [==============================] - 1s 26ms/step - loss: 0.3852 - accuracy: 0.8313 - val_loss: 0.3571 - val_accuracy: 0.8486\n",
      "Epoch 87/100\n",
      "42/42 [==============================] - 1s 26ms/step - loss: 0.3813 - accuracy: 0.8285 - val_loss: 0.3492 - val_accuracy: 0.8537\n",
      "Epoch 88/100\n",
      "42/42 [==============================] - 1s 26ms/step - loss: 0.3790 - accuracy: 0.8323 - val_loss: 0.3618 - val_accuracy: 0.8480\n",
      "Epoch 89/100\n",
      "42/42 [==============================] - 1s 26ms/step - loss: 0.3858 - accuracy: 0.8275 - val_loss: 0.3417 - val_accuracy: 0.8486\n",
      "Epoch 90/100\n",
      "42/42 [==============================] - 1s 26ms/step - loss: 0.3767 - accuracy: 0.8283 - val_loss: 0.3493 - val_accuracy: 0.8526\n",
      "Epoch 91/100\n",
      "42/42 [==============================] - 1s 26ms/step - loss: 0.3764 - accuracy: 0.8269 - val_loss: 0.3386 - val_accuracy: 0.8526\n",
      "Epoch 92/100\n",
      "42/42 [==============================] - 1s 26ms/step - loss: 0.3826 - accuracy: 0.8302 - val_loss: 0.3486 - val_accuracy: 0.8549\n",
      "Epoch 93/100\n",
      "42/42 [==============================] - 1s 26ms/step - loss: 0.3774 - accuracy: 0.8332 - val_loss: 0.3440 - val_accuracy: 0.8554\n",
      "Epoch 94/100\n",
      "42/42 [==============================] - 1s 26ms/step - loss: 0.3844 - accuracy: 0.8250 - val_loss: 0.3387 - val_accuracy: 0.8566\n",
      "Epoch 95/100\n",
      "42/42 [==============================] - 1s 26ms/step - loss: 0.3789 - accuracy: 0.8281 - val_loss: 0.3381 - val_accuracy: 0.8503\n",
      "Epoch 96/100\n",
      "42/42 [==============================] - 1s 26ms/step - loss: 0.3773 - accuracy: 0.8311 - val_loss: 0.3475 - val_accuracy: 0.8503\n",
      "Epoch 97/100\n",
      "42/42 [==============================] - 1s 26ms/step - loss: 0.3787 - accuracy: 0.8247 - val_loss: 0.3457 - val_accuracy: 0.8509\n",
      "Epoch 98/100\n",
      "42/42 [==============================] - 1s 26ms/step - loss: 0.3771 - accuracy: 0.8359 - val_loss: 0.3393 - val_accuracy: 0.8560\n",
      "Epoch 99/100\n",
      "42/42 [==============================] - 1s 26ms/step - loss: 0.3788 - accuracy: 0.8338 - val_loss: 0.3377 - val_accuracy: 0.8526\n",
      "Epoch 100/100\n",
      "42/42 [==============================] - 1s 26ms/step - loss: 0.3701 - accuracy: 0.8362 - val_loss: 0.3466 - val_accuracy: 0.8571\n"
     ]
    }
   ],
   "source": [
    "optimizer = keras.optimizers.Adam(learning_rate=lr)\n",
    "model.compile(loss=tf.keras.losses.BinaryCrossentropy(), optimizer=optimizer, metrics=['accuracy'])\n",
    "\n",
    "history = model.fit(X_train, y_train, batch_size=batch_size, epochs=epochs, \n",
    "                     callbacks=[es], validation_data=(X_valid, y_valid))"
   ]
  },
  {
   "cell_type": "markdown",
   "metadata": {
    "_cell_guid": "c1f318f5-d68e-4960-8e57-91aaa3844e28",
    "_uuid": "a09d2b60-ed6b-4eb4-a94d-6f2fe73faa41",
    "papermill": {
     "duration": 1.377698,
     "end_time": "2021-09-21T01:22:46.367523",
     "exception": false,
     "start_time": "2021-09-21T01:22:44.989825",
     "status": "completed"
    },
    "tags": []
   },
   "source": [
    "The model has been trained, so now we naturally should view the learning curves to assess how our model has performed, and potentially spot any under/overfitting issues"
   ]
  },
  {
   "cell_type": "code",
   "execution_count": 62,
   "metadata": {
    "_cell_guid": "d268de7f-882c-4e47-8368-10920d557a0a",
    "_uuid": "ae54662e-0f3b-4406-a255-8b52810770e2",
    "execution": {
     "iopub.execute_input": "2021-09-21T01:22:49.118795Z",
     "iopub.status.busy": "2021-09-21T01:22:49.117700Z",
     "iopub.status.idle": "2021-09-21T01:22:49.408395Z",
     "shell.execute_reply": "2021-09-21T01:22:49.408923Z"
    },
    "jupyter": {
     "outputs_hidden": false
    },
    "papermill": {
     "duration": 1.7147,
     "end_time": "2021-09-21T01:22:49.409130",
     "exception": false,
     "start_time": "2021-09-21T01:22:47.694430",
     "status": "completed"
    },
    "tags": []
   },
   "outputs": [
    {
     "data": {
      "image/png": "[encoded data removed]",
      "text/plain": [
       "<Figure size 720x288 with 2 Axes>"
      ]
     },
     "metadata": {
      "needs_background": "light"
     },
     "output_type": "display_data"
    }
   ],
   "source": [
    "acc = history.history['accuracy']\n",
    "val_acc = history.history['val_accuracy']\n",
    "\n",
    "loss=history.history['loss']\n",
    "val_loss=history.history['val_loss']\n",
    "\n",
    "epochs_range = range(epochs)\n",
    "\n",
    "plt.figure(figsize=(10, 4))\n",
    "plt.subplot(1, 2, 1)\n",
    "plt.plot(epochs_range, acc, label='Training Accuracy')\n",
    "plt.plot(epochs_range, val_acc, label='Validation Accuracy')\n",
    "plt.legend(loc='lower right')\n",
    "plt.title('Training and Validation Accuracy')\n",
    "\n",
    "plt.subplot(1, 2, 2)\n",
    "plt.plot(epochs_range, loss, label='Training Loss')\n",
    "plt.plot(epochs_range, val_loss, label='Validation Loss')\n",
    "plt.legend(loc='upper right')\n",
    "plt.title('Training and Validation Loss')\n",
    "\n",
    "plt.show()"
   ]
  },
  {
   "cell_type": "markdown",
   "metadata": {},
   "source": [
    "----"
   ]
  },
  {
   "cell_type": "markdown",
   "metadata": {
    "_cell_guid": "aefcf2cb-45b8-4885-b5d1-52a4fa6928a6",
    "_uuid": "b9fe50c6-b270-41a3-8238-0173c398c632",
    "papermill": {
     "duration": 1.322804,
     "end_time": "2021-09-21T01:22:52.052551",
     "exception": false,
     "start_time": "2021-09-21T01:22:50.729747",
     "status": "completed"
    },
    "tags": []
   },
   "source": [
    "# 4. Evaluate on the test set"
   ]
  },
  {
   "cell_type": "markdown",
   "metadata": {},
   "source": [
    "---"
   ]
  },
  {
   "cell_type": "markdown",
   "metadata": {},
   "source": [
    "With our trained model, we are ready to evaluate its ability on the unseen test data. Below, we prepare the testing data following the data preparation steps we used before, and perform one-time inference to get the final F1 score for our model"
   ]
  },
  {
   "cell_type": "code",
   "execution_count": 63,
   "metadata": {
    "_cell_guid": "88fc5a0a-b2c6-410a-80d2-a4387cc43886",
    "_uuid": "726736a9-8ad9-43b7-815c-6ad7c1030bf0",
    "execution": {
     "iopub.execute_input": "2021-09-21T01:22:54.746871Z",
     "iopub.status.busy": "2021-09-21T01:22:54.745877Z",
     "iopub.status.idle": "2021-09-21T01:22:54.782402Z",
     "shell.execute_reply": "2021-09-21T01:22:54.781729Z"
    },
    "jupyter": {
     "outputs_hidden": false
    },
    "papermill": {
     "duration": 1.363695,
     "end_time": "2021-09-21T01:22:54.782581",
     "exception": false,
     "start_time": "2021-09-21T01:22:53.418886",
     "status": "completed"
    },
    "tags": []
   },
   "outputs": [],
   "source": [
    "test = vectorizer(np.array([[s] for s in list(test_set.values())])).numpy()\n",
    "test = pad_sequences(test, maxlen=X_train.shape[1])"
   ]
  },
  {
   "cell_type": "code",
   "execution_count": 64,
   "metadata": {
    "_cell_guid": "2027d12b-2536-48fe-8120-c880415aed26",
    "_uuid": "cd591977-998b-4781-8e68-14b36930a25c",
    "execution": {
     "iopub.execute_input": "2021-09-21T01:22:57.453458Z",
     "iopub.status.busy": "2021-09-21T01:22:57.452794Z",
     "iopub.status.idle": "2021-09-21T01:22:58.634509Z",
     "shell.execute_reply": "2021-09-21T01:22:58.633831Z"
    },
    "jupyter": {
     "outputs_hidden": false
    },
    "papermill": {
     "duration": 2.517769,
     "end_time": "2021-09-21T01:22:58.634717",
     "exception": false,
     "start_time": "2021-09-21T01:22:56.116948",
     "status": "completed"
    },
    "tags": []
   },
   "outputs": [],
   "source": [
    "predictions = model.predict(test)\n",
    "predictions[predictions > 0.5] = 1\n",
    "predictions[predictions < 0.5] = 0"
   ]
  },
  {
   "cell_type": "code",
   "execution_count": 65,
   "metadata": {
    "_cell_guid": "b2d305f5-1940-4ff2-a389-3663b5fa1bd2",
    "_uuid": "754e0d6b-f4f3-4393-b884-3c956f8447a6",
    "execution": {
     "iopub.execute_input": "2021-09-21T01:23:01.314333Z",
     "iopub.status.busy": "2021-09-21T01:23:01.313677Z",
     "iopub.status.idle": "2021-09-21T01:23:01.322097Z",
     "shell.execute_reply": "2021-09-21T01:23:01.322639Z"
    },
    "jupyter": {
     "outputs_hidden": false
    },
    "papermill": {
     "duration": 1.334115,
     "end_time": "2021-09-21T01:23:01.322851",
     "exception": false,
     "start_time": "2021-09-21T01:22:59.988736",
     "status": "completed"
    },
    "tags": []
   },
   "outputs": [
    {
     "name": "stdout",
     "output_type": "stream",
     "text": [
      "BiLSTM F1 score: 0.8220392653578213\n"
     ]
    }
   ],
   "source": [
    "score_lstm = f1_score(list(test_labels.values()), predictions)\n",
    "print(\"BiLSTM F1 score: {}\".format(score_lstm))"
   ]
  }
 ],
 "metadata": {
  "kernelspec": {
   "display_name": "Python 3",
   "language": "python",
   "name": "python3"
  },
  "language_info": {
   "codemirror_mode": {
    "name": "ipython",
    "version": 3
   },
   "file_extension": ".py",
   "mimetype": "text/x-python",
   "name": "python",
   "nbconvert_exporter": "python",
   "pygments_lexer": "ipython3",
   "version": "3.7.3"
  },
  "papermill": {
   "default_parameters": {},
   "duration": 381.489756,
   "end_time": "2021-09-21T01:23:19.543048",
   "environment_variables": {},
   "exception": null,
   "input_path": "__notebook__.ipynb",
   "output_path": "__notebook__.ipynb",
   "parameters": {},
   "start_time": "2021-09-21T01:16:58.053292",
   "version": "2.3.3"
  }
 },
 "nbformat": 4,
 "nbformat_minor": 5
}
